{
 "cells": [
  {
   "cell_type": "code",
   "execution_count": 16,
   "id": "212a018c-0478-4e77-8946-1b60198879f1",
   "metadata": {},
   "outputs": [
    {
     "name": "stdout",
     "output_type": "stream",
     "text": [
      "Requirement already satisfied: pandas in /opt/miniconda3/lib/python3.13/site-packages (2.3.1)\n",
      "Requirement already satisfied: pyarrow in /opt/miniconda3/lib/python3.13/site-packages (21.0.0)\n",
      "Requirement already satisfied: numpy>=1.26.0 in /opt/miniconda3/lib/python3.13/site-packages (from pandas) (2.3.2)\n",
      "Requirement already satisfied: python-dateutil>=2.8.2 in /opt/miniconda3/lib/python3.13/site-packages (from pandas) (2.9.0.post0)\n",
      "Requirement already satisfied: pytz>=2020.1 in /opt/miniconda3/lib/python3.13/site-packages (from pandas) (2025.2)\n",
      "Requirement already satisfied: tzdata>=2022.7 in /opt/miniconda3/lib/python3.13/site-packages (from pandas) (2025.2)\n",
      "Requirement already satisfied: six>=1.5 in /opt/miniconda3/lib/python3.13/site-packages (from python-dateutil>=2.8.2->pandas) (1.17.0)\n"
     ]
    }
   ],
   "source": [
    "!pip install --upgrade pandas pyarrow"
   ]
  },
  {
   "cell_type": "code",
   "execution_count": 20,
   "id": "6a389014-0ecf-4202-808a-2891cf7c9b07",
   "metadata": {},
   "outputs": [],
   "source": [
    "from dotenv import load_dotenv\n",
    "from pathlib import Path\n",
    "import os\n",
    "\n",
    "load_dotenv()\n",
    "\n",
    "RAW = Path(os.getenv(\"DATA_DIR_RAW\", \"data/raw\"))\n",
    "PROC = Path(os.getenv(\"DATA_DIR_PROCESSED\", \"data/processed\"))\n",
    "\n",
    "RAW.mkdir(parents=True, exist_ok=True)\n",
    "PROC.mkdir(parents=True, exist_ok=True)"
   ]
  },
  {
   "cell_type": "code",
   "execution_count": 25,
   "id": "fa376fe9-7d70-42a2-b8b9-ba5c7816fff2",
   "metadata": {},
   "outputs": [
    {
     "name": "stdout",
     "output_type": "stream",
     "text": [
      "Saved: data/raw/sample_20250821-0358.csv data/processed/sample_20250821-0358.parquet\n"
     ]
    }
   ],
   "source": [
    "import os\n",
    "os.environ[\"PYARROW_IGNORE_DUPLICATE_EXTENSIONS\"] = \"1\"\n",
    "\n",
    "import pandas as pd\n",
    "from datetime import datetime\n",
    "\n",
    "# Sample dataset\n",
    "df = pd.DataFrame({\n",
    "    \"date\": pd.date_range(\"2024-01-01\", periods=5, freq=\"D\"),\n",
    "    \"price\": [100, 101.5, 102.2, 101.9, 103.1]\n",
    "})\n",
    "\n",
    "ts = datetime.now().strftime(\"%Y%m%d-%H%M\")\n",
    "\n",
    "# Save raw CSV\n",
    "csv_file = RAW / f\"sample_{ts}.csv\"\n",
    "df.to_csv(csv_file, index=False)\n",
    "\n",
    "# Save processed Parquet\n",
    "parquet_file = PROC / f\"sample_{ts}.parquet\"\n",
    "df.to_parquet(parquet_file, engine=\"fastparquet\", index=False)\n",
    "\n",
    "print(\"Saved:\", csv_file, parquet_file)\n"
   ]
  },
  {
   "cell_type": "code",
   "execution_count": 26,
   "id": "e55ce814-df61-41d2-b4b1-1a75e3037033",
   "metadata": {},
   "outputs": [],
   "source": [
    "def validate_df(df, required_cols=None, dtypes=None):\n",
    "    msgs = {}\n",
    "    if required_cols:\n",
    "        missing = [c for c in required_cols if c not in df.columns]\n",
    "        if missing:\n",
    "            msgs[\"missing_cols\"] = missing\n",
    "    if dtypes:\n",
    "        for c, t in dtypes.items():\n",
    "            if c in df.columns and df[c].dtype != t:\n",
    "                msgs[f\"{c}_dtype\"] = (df[c].dtype, t)\n",
    "    return msgs or {\"status\": \"ok\"}\n"
   ]
  },
  {
   "cell_type": "code",
   "execution_count": 28,
   "id": "896b9395-f223-458c-b5f7-71b00aabc8bd",
   "metadata": {},
   "outputs": [
    {
     "name": "stdout",
     "output_type": "stream",
     "text": [
      "Shapes: (5, 2) (5, 2) (5, 2)\n",
      "Validation CSV: {'status': 'ok'}\n",
      "Validation Parquet: {'status': 'ok'}\n"
     ]
    }
   ],
   "source": [
    "df_csv = pd.read_csv(csv_file, parse_dates=[\"date\"])\n",
    "df_parquet = pd.read_parquet(parquet_file, engine=\"fastparquet\")\n",
    "\n",
    "print(\"Shapes:\", df.shape, df_csv.shape, df_parquet.shape)\n",
    "print(\"Validation CSV:\", validate_df(df_csv, [\"date\",\"price\"], {\"price\":\"float64\"}))\n",
    "print(\"Validation Parquet:\", validate_df(df_parquet, [\"date\",\"price\"], {\"price\":\"float64\"}))\n"
   ]
  },
  {
   "cell_type": "code",
   "execution_count": 31,
   "id": "36b58390-0bee-4c1e-9e8e-0b41fbcf95fb",
   "metadata": {},
   "outputs": [],
   "source": [
    "def write_df(df, path: Path):\n",
    "    path.parent.mkdir(parents=True, exist_ok=True)\n",
    "    suffix = path.suffix.lower()\n",
    "    if suffix == \".csv\":\n",
    "        df.to_csv(path, index=False)\n",
    "    elif suffix == \".parquet\":\n",
    "        try:\n",
    "            df.to_parquet(path, engine=\"fastparquet\", index=False)\n",
    "        except ImportError:\n",
    "            raise RuntimeError(\"Parquet engine missing. Install pyarrow or fastparquet.\")\n",
    "    else:\n",
    "        raise ValueError(f\"Unsupported format: {suffix}\")\n",
    "\n",
    "def read_df(path: Path, **kwargs):\n",
    "    suffix = path.suffix.lower()\n",
    "    if suffix == \".csv\":\n",
    "        return pd.read_csv(path, **kwargs)\n",
    "    elif suffix == \".parquet\":\n",
    "        try:\n",
    "            return pd.read_parquet(path, engine=\"fastparquet\", **kwargs)\n",
    "        except ImportError:\n",
    "            raise RuntimeError(\"Parquet engine missing. Install pyarrow or fastparquet.\")\n",
    "    else:\n",
    "        raise ValueError(f\"Unsupported format: {suffix}\")\n"
   ]
  },
  {
   "cell_type": "code",
   "execution_count": 32,
   "id": "28015da0-2cf1-4f5f-af0e-00ab50496234",
   "metadata": {},
   "outputs": [
    {
     "name": "stdout",
     "output_type": "stream",
     "text": [
      "         date  price\n",
      "0  2024-01-01  100.0\n",
      "1  2024-01-02  101.5\n",
      "2  2024-01-03  102.2\n",
      "3  2024-01-04  101.9\n",
      "4  2024-01-05  103.1\n",
      "        date  price\n",
      "0 2024-01-01  100.0\n",
      "1 2024-01-02  101.5\n",
      "2 2024-01-03  102.2\n",
      "3 2024-01-04  101.9\n",
      "4 2024-01-05  103.1\n"
     ]
    }
   ],
   "source": [
    "test_csv = RAW / f\"sample_utils_{ts}.csv\"\n",
    "test_parquet = PROC / f\"sample_utils_{ts}.parquet\"\n",
    "\n",
    "write_df(df, test_csv)\n",
    "write_df(df, test_parquet)\n",
    "\n",
    "print(read_df(test_csv).head())\n",
    "print(read_df(test_parquet).head())\n"
   ]
  },
  {
   "cell_type": "code",
   "execution_count": null,
   "id": "6eedc02b-9020-43eb-b84b-2616a0ea7b87",
   "metadata": {},
   "outputs": [],
   "source": []
  }
 ],
 "metadata": {
  "kernelspec": {
   "display_name": "Python 3 (ipykernel)",
   "language": "python",
   "name": "python3"
  },
  "language_info": {
   "codemirror_mode": {
    "name": "ipython",
    "version": 3
   },
   "file_extension": ".py",
   "mimetype": "text/x-python",
   "name": "python",
   "nbconvert_exporter": "python",
   "pygments_lexer": "ipython3",
   "version": "3.13.5"
  }
 },
 "nbformat": 4,
 "nbformat_minor": 5
}
