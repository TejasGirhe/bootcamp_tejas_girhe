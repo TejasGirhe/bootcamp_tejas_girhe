{
 "cells": [
  {
   "cell_type": "code",
   "execution_count": 1,
   "id": "20bdab32-dcc7-4f11-a1ae-461772e1c133",
   "metadata": {},
   "outputs": [],
   "source": [
    "# src/ingest_scrape.py\n",
    "import requests, json\n",
    "from bs4 import BeautifulSoup\n",
    "import pandas as pd\n",
    "from pathlib import Path\n",
    "from datetime import datetime\n",
    "\n",
    "OUT_DIR = Path(\"data/raw\")\n",
    "\n",
    "def timestamp():\n",
    "    return datetime.utcnow().strftime(\"%Y%m%d-%H%M\")\n",
    "\n",
    "def save_df_with_meta(df: pd.DataFrame, prefix: str, meta: dict):\n",
    "    OUT_DIR.mkdir(parents=True, exist_ok=True)\n",
    "    fname = f\"{prefix}_{timestamp()}.csv\"\n",
    "    metaname = fname.replace(\".csv\", \".meta.json\")\n",
    "    df.to_csv(OUT_DIR / fname, index=False)\n",
    "    with open(OUT_DIR / metaname, \"w\") as f:\n",
    "        json.dump(meta, f, indent=2)\n",
    "    return fname\n",
    "\n",
    "def scrape_wikipedia_table(url: str, table_index: int = 0):\n",
    "    resp = requests.get(url, timeout=30)\n",
    "    resp.raise_for_status()\n",
    "    soup = BeautifulSoup(resp.text, \"lxml\")\n",
    "    # robust approach: try pandas.read_html as fallback\n",
    "    tables = pd.read_html(resp.text)\n",
    "    if len(tables) > table_index:\n",
    "        df = tables[table_index]\n",
    "    else:\n",
    "        # manual parsing example (if read_html fails)\n",
    "        table = soup.find_all(\"table\")[table_index]\n",
    "        rows = []\n",
    "        for tr in table.find_all(\"tr\"):\n",
    "            cols = [td.get_text(strip=True) for td in tr.find_all([\"td\",\"th\"])]\n",
    "            if cols:\n",
    "                rows.append(cols)\n",
    "        df = pd.DataFrame(rows[1:], columns=rows[0])\n",
    "    meta = {\"source\":\"wikipedia\", \"url\": url, \"table_index\": table_index, \"fetched_at\": datetime.utcnow().isoformat()}\n",
    "    fname = save_df_with_meta(df, \"scrape_wikipedia_table\", meta)\n",
    "    return df, fname\n"
   ]
  },
  {
   "cell_type": "code",
   "execution_count": null,
   "id": "54ae92c8-6e94-45ea-9fcd-abe06e7200f8",
   "metadata": {},
   "outputs": [],
   "source": []
  }
 ],
 "metadata": {
  "kernelspec": {
   "display_name": "Python 3 (ipykernel)",
   "language": "python",
   "name": "python3"
  },
  "language_info": {
   "codemirror_mode": {
    "name": "ipython",
    "version": 3
   },
   "file_extension": ".py",
   "mimetype": "text/x-python",
   "name": "python",
   "nbconvert_exporter": "python",
   "pygments_lexer": "ipython3",
   "version": "3.13.5"
  }
 },
 "nbformat": 4,
 "nbformat_minor": 5
}
