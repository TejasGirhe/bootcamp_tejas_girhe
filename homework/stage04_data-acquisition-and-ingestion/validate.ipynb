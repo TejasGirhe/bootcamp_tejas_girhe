{
 "cells": [
  {
   "cell_type": "code",
   "execution_count": 1,
   "id": "6e0115ff-72be-4585-b142-c06e02047d53",
   "metadata": {},
   "outputs": [],
   "source": [
    "# src/validate.py\n",
    "import pandas as pd\n",
    "import numpy as np\n",
    "\n",
    "def validate_df(df: pd.DataFrame, required_cols: list = None, dtype_map: dict = None, na_thresh: float = 0.2):\n",
    "    \"\"\"Return a dict of messages. Empty dict means OK.\"\"\"\n",
    "    msgs = {}\n",
    "    if required_cols:\n",
    "        missing = [c for c in required_cols if c not in df.columns]\n",
    "        if missing:\n",
    "            msgs['missing_cols'] = missing\n",
    "    if dtype_map:\n",
    "        coerced = {}\n",
    "        for col, expected in dtype_map.items():\n",
    "            if col not in df.columns:\n",
    "                continue\n",
    "            try:\n",
    "                if expected.startswith(\"datetime\"):\n",
    "                    pd.to_datetime(df[col], errors='raise')\n",
    "                elif expected in ('float','int'):\n",
    "                    df[col].astype(float if expected=='float' else int)\n",
    "                # else skip strict\n",
    "                coerced[col] = True\n",
    "            except Exception as e:\n",
    "                msgs.setdefault('dtype_errors', {})[col] = str(e)\n",
    "    if na_thresh is not None:\n",
    "        na_frac = df.isna().mean()\n",
    "        bad = na_frac[na_frac > na_thresh].to_dict()\n",
    "        if bad:\n",
    "            msgs['high_na_fraction'] = {k: float(v) for k,v in bad.items()}\n",
    "    # Sanity checks: duplicates and monotonic date if 'date' exists\n",
    "    if 'date' in df.columns:\n",
    "        if df['date'].duplicated().any():\n",
    "            msgs['duplicates_in_date'] = int(df['date'].duplicated().sum())\n",
    "        try:\n",
    "            monotonic = df['date'].is_monotonic_increasing\n",
    "            if not monotonic:\n",
    "                msgs['date_not_monotonic'] = True\n",
    "        except Exception:\n",
    "            pass\n",
    "    return msgs\n"
   ]
  },
  {
   "cell_type": "code",
   "execution_count": 6,
   "id": "71de5c41-138e-4a25-b940-caf99e9b4fb8",
   "metadata": {},
   "outputs": [
    {
     "name": "stdout",
     "output_type": "stream",
     "text": [
      "Found 2 tables\n",
      "    Symbol             Security             GICS Sector  \\\n",
      "0      MMM                   3M             Industrials   \n",
      "1      AOS          A. O. Smith             Industrials   \n",
      "2      ABT  Abbott Laboratories             Health Care   \n",
      "3     ABBV               AbbVie             Health Care   \n",
      "4      ACN            Accenture  Information Technology   \n",
      "..     ...                  ...                     ...   \n",
      "498    XYL           Xylem Inc.             Industrials   \n",
      "499    YUM          Yum! Brands  Consumer Discretionary   \n",
      "500   ZBRA   Zebra Technologies  Information Technology   \n",
      "501    ZBH        Zimmer Biomet             Health Care   \n",
      "502    ZTS               Zoetis             Health Care   \n",
      "\n",
      "                                GICS Sub-Industry    Headquarters Location  \\\n",
      "0                        Industrial Conglomerates    Saint Paul, Minnesota   \n",
      "1                               Building Products     Milwaukee, Wisconsin   \n",
      "2                           Health Care Equipment  North Chicago, Illinois   \n",
      "3                                   Biotechnology  North Chicago, Illinois   \n",
      "4                  IT Consulting & Other Services          Dublin, Ireland   \n",
      "..                                            ...                      ...   \n",
      "498  Industrial Machinery & Supplies & Components   White Plains, New York   \n",
      "499                                   Restaurants     Louisville, Kentucky   \n",
      "500            Electronic Equipment & Instruments   Lincolnshire, Illinois   \n",
      "501                         Health Care Equipment          Warsaw, Indiana   \n",
      "502                               Pharmaceuticals   Parsippany, New Jersey   \n",
      "\n",
      "     Date added      CIK      Founded  \n",
      "0    1957-03-04    66740         1902  \n",
      "1    2017-07-26    91142         1916  \n",
      "2    1957-03-04     1800         1888  \n",
      "3    2012-12-31  1551152  2013 (1888)  \n",
      "4    2011-07-06  1467373         1989  \n",
      "..          ...      ...          ...  \n",
      "498  2011-11-01  1524472         2011  \n",
      "499  1997-10-06  1041061         1997  \n",
      "500  2019-12-23   877212         1969  \n",
      "501  2001-08-07  1136869         1927  \n",
      "502  2013-06-21  1555280         1952  \n",
      "\n",
      "[503 rows x 8 columns]\n",
      "<class 'pandas.core.frame.DataFrame'>\n",
      "RangeIndex: 503 entries, 0 to 502\n",
      "Data columns (total 8 columns):\n",
      " #   Column                 Non-Null Count  Dtype \n",
      "---  ------                 --------------  ----- \n",
      " 0   Symbol                 503 non-null    object\n",
      " 1   Security               503 non-null    object\n",
      " 2   GICS Sector            503 non-null    object\n",
      " 3   GICS Sub-Industry      503 non-null    object\n",
      " 4   Headquarters Location  503 non-null    object\n",
      " 5   Date added             503 non-null    object\n",
      " 6   CIK                    503 non-null    int64 \n",
      " 7   Founded                503 non-null    object\n",
      "dtypes: int64(1), object(7)\n",
      "memory usage: 31.6+ KB\n",
      "None\n"
     ]
    }
   ],
   "source": [
    "import pandas as pd\n",
    "\n",
    "url = \"https://en.wikipedia.org/wiki/List_of_S%26P_500_companies\"\n",
    "tables = pd.read_html(url)\n",
    "print(f\"Found {len(tables)} tables\")\n",
    "\n",
    "df_scrape = tables[0]   # first table\n",
    "print(df_scrape.head())\n",
    "print(df_scrape.info())\n"
   ]
  },
  {
   "cell_type": "code",
   "execution_count": 7,
   "id": "5b006338-dbd7-4fa7-8b4e-05cc59d03916",
   "metadata": {},
   "outputs": [
    {
     "name": "stdout",
     "output_type": "stream",
     "text": [
      "Missing: timestamp\n",
      "Missing: close\n",
      "NA counts:\n",
      " {    0\n",
      "dtype: int64\n",
      "Shape: (2, 1)\n"
     ]
    }
   ],
   "source": [
    "from datetime import datetime\n",
    "import os\n",
    "\n",
    "Path(\"data/raw\").mkdir(parents=True, exist_ok=True)\n",
    "\n",
    "ts = datetime.now().strftime(\"%Y%m%d-%H%M\")\n",
    "api_file = f\"data/raw/api_alphavantage_AAPL_{ts}.csv\"\n",
    "scrape_file = f\"data/raw/scrape_wikipedia_sp500_{ts}.csv\"\n",
    "\n",
    "df_api.to_csv(api_file, index=False)\n",
    "df_scrape.to_csv(scrape_file, index=False)\n",
    "\n",
    "print(\"Saved:\", api_file, scrape_file)\n"
   ]
  },
  {
   "cell_type": "code",
   "execution_count": 10,
   "id": "7b5b07aa-4d76-46e1-b93e-f919d107bb94",
   "metadata": {},
   "outputs": [],
   "source": [
    "from pathlib import Path\n"
   ]
  },
  {
   "cell_type": "code",
   "execution_count": 11,
   "id": "9d70d2d7-fca8-42c1-9733-1f8cc9f78527",
   "metadata": {},
   "outputs": [
    {
     "name": "stdout",
     "output_type": "stream",
     "text": [
      "Saved: data/raw/api_alphavantage_AAPL_20250821-0333.csv data/raw/scrape_wikipedia_sp500_20250821-0333.csv\n"
     ]
    }
   ],
   "source": [
    "from datetime import datetime\n",
    "import os\n",
    "\n",
    "Path(\"data/raw\").mkdir(parents=True, exist_ok=True)\n",
    "\n",
    "ts = datetime.now().strftime(\"%Y%m%d-%H%M\")\n",
    "api_file = f\"data/raw/api_alphavantage_AAPL_{ts}.csv\"\n",
    "scrape_file = f\"data/raw/scrape_wikipedia_sp500_{ts}.csv\"\n",
    "\n",
    "df_api.to_csv(api_file, index=False)\n",
    "df_scrape.to_csv(scrape_file, index=False)\n",
    "\n",
    "print(\"Saved:\", api_file, scrape_file)\n"
   ]
  },
  {
   "cell_type": "code",
   "execution_count": null,
   "id": "0a5748bc-174a-41c2-8222-ebb96c208dc8",
   "metadata": {},
   "outputs": [],
   "source": []
  }
 ],
 "metadata": {
  "kernelspec": {
   "display_name": "Python 3 (ipykernel)",
   "language": "python",
   "name": "python3"
  },
  "language_info": {
   "codemirror_mode": {
    "name": "ipython",
    "version": 3
   },
   "file_extension": ".py",
   "mimetype": "text/x-python",
   "name": "python",
   "nbconvert_exporter": "python",
   "pygments_lexer": "ipython3",
   "version": "3.13.5"
  }
 },
 "nbformat": 4,
 "nbformat_minor": 5
}
