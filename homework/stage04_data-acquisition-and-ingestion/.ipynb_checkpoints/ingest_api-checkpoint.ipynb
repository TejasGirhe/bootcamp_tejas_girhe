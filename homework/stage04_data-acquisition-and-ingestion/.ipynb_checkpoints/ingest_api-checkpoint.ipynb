{
 "cells": [
  {
   "cell_type": "code",
   "execution_count": 10,
   "id": "7fface21-dadb-43df-a7fb-0b617709bf8a",
   "metadata": {},
   "outputs": [
    {
     "name": "stdout",
     "output_type": "stream",
     "text": [
      "SC9KU3SWLDZT6FIV\n"
     ]
    }
   ],
   "source": [
    "# src/ingest_api.py\n",
    "import os, time, json\n",
    "import requests\n",
    "import pandas as pd\n",
    "from pathlib import Path\n",
    "from datetime import datetime\n",
    "from dotenv import load_dotenv\n",
    "\n",
    "load_dotenv()\n",
    "\n",
    "API_KEY = os.getenv(\"API_KEY\")  # required for AlphaVantage\n",
    "OUT_DIR = Path(\"data/raw\")\n",
    "print(API_KEY)\n",
    "\n",
    "def timestamp():\n",
    "    return datetime.utcnow().strftime(\"%Y%m%d-%H%M\")\n",
    "\n",
    "def save_df_with_meta(df: pd.DataFrame, prefix: str, meta: dict):\n",
    "    OUT_DIR.mkdir(parents=True, exist_ok=True)\n",
    "    fname = f\"{prefix}_{timestamp()}.csv\"\n",
    "    metaname = fname.replace(\".csv\", \".meta.json\")\n",
    "    df.to_csv(OUT_DIR / fname, index=False)\n",
    "    with open(OUT_DIR / metaname, \"w\") as f:\n",
    "        json.dump(meta, f, indent=2)\n",
    "    return fname\n",
    "\n",
    "def fetch_alpha_vantage_daily(ticker: str):\n",
    "    if not API_KEY:\n",
    "        raise RuntimeError(\"API_KEY not set in .env\")\n",
    "    url = \"https://www.alphavantage.co/query\"\n",
    "    params = {\"function\": \"TIME_SERIES_DAILY_ADJUSTED\", \"symbol\": ticker, \"apikey\": API_KEY, \"outputsize\": \"compact\"}\n",
    "    resp = requests.get(url, params=params, timeout=30)\n",
    "    resp.raise_for_status()\n",
    "    data = resp.json()\n",
    "    # basic error handling\n",
    "    if \"Time Series (Daily)\" not in data:\n",
    "        raise RuntimeError(\"Unexpected response from AlphaVantage: \" + str(data.get(\"Note\") or data.get(\"Error Message\") or data))\n",
    "    ts = data[\"Time Series (Daily)\"]\n",
    "    df = pd.DataFrame.from_dict(ts, orient=\"index\").reset_index().rename(columns={\"index\":\"date\"})\n",
    "    # convert dtypes\n",
    "    df['date'] = pd.to_datetime(df['date'], utc=True)\n",
    "    # convert all numeric columns to float (columns have keys like '1. open', '5. adjusted close')\n",
    "    numcols = [c for c in df.columns if c != 'date']\n",
    "    df[numcols] = df[numcols].astype(float)\n",
    "    meta = {\"source\":\"AlphaVantage\", \"ticker\":ticker, \"params\": params, \"fetched_at\": datetime.utcnow().isoformat()}\n",
    "    fname = save_df_with_meta(df, f\"api_alphavantage_{ticker}\", meta)\n",
    "    return df, fname\n"
   ]
  },
  {
   "cell_type": "code",
   "execution_count": 8,
   "id": "0c658458-a967-4800-8926-958812ee531a",
   "metadata": {},
   "outputs": [
    {
     "ename": "RuntimeError",
     "evalue": "Unexpected response from AlphaVantage: {'Information': 'Thank you for using Alpha Vantage! This is a premium endpoint. You may subscribe to any of the premium plans at https://www.alphavantage.co/premium/ to instantly unlock all premium endpoints'}",
     "output_type": "error",
     "traceback": [
      "\u001b[31m---------------------------------------------------------------------------\u001b[39m",
      "\u001b[31mRuntimeError\u001b[39m                              Traceback (most recent call last)",
      "\u001b[36mCell\u001b[39m\u001b[36m \u001b[39m\u001b[32mIn[8]\u001b[39m\u001b[32m, line 1\u001b[39m\n\u001b[32m----> \u001b[39m\u001b[32m1\u001b[39m \u001b[43mfetch_alpha_vantage_daily\u001b[49m\u001b[43m(\u001b[49m\u001b[33;43m\"\u001b[39;49m\u001b[33;43mACN\u001b[39;49m\u001b[33;43m\"\u001b[39;49m\u001b[43m)\u001b[49m\n",
      "\u001b[36mCell\u001b[39m\u001b[36m \u001b[39m\u001b[32mIn[6]\u001b[39m\u001b[32m, line 36\u001b[39m, in \u001b[36mfetch_alpha_vantage_daily\u001b[39m\u001b[34m(ticker)\u001b[39m\n\u001b[32m     34\u001b[39m \u001b[38;5;66;03m# basic error handling\u001b[39;00m\n\u001b[32m     35\u001b[39m \u001b[38;5;28;01mif\u001b[39;00m \u001b[33m\"\u001b[39m\u001b[33mTime Series (Daily)\u001b[39m\u001b[33m\"\u001b[39m \u001b[38;5;129;01mnot\u001b[39;00m \u001b[38;5;129;01min\u001b[39;00m data:\n\u001b[32m---> \u001b[39m\u001b[32m36\u001b[39m     \u001b[38;5;28;01mraise\u001b[39;00m \u001b[38;5;167;01mRuntimeError\u001b[39;00m(\u001b[33m\"\u001b[39m\u001b[33mUnexpected response from AlphaVantage: \u001b[39m\u001b[33m\"\u001b[39m + \u001b[38;5;28mstr\u001b[39m(data.get(\u001b[33m\"\u001b[39m\u001b[33mNote\u001b[39m\u001b[33m\"\u001b[39m) \u001b[38;5;129;01mor\u001b[39;00m data.get(\u001b[33m\"\u001b[39m\u001b[33mError Message\u001b[39m\u001b[33m\"\u001b[39m) \u001b[38;5;129;01mor\u001b[39;00m data))\n\u001b[32m     37\u001b[39m ts = data[\u001b[33m\"\u001b[39m\u001b[33mTime Series (Daily)\u001b[39m\u001b[33m\"\u001b[39m]\n\u001b[32m     38\u001b[39m df = pd.DataFrame.from_dict(ts, orient=\u001b[33m\"\u001b[39m\u001b[33mindex\u001b[39m\u001b[33m\"\u001b[39m).reset_index().rename(columns={\u001b[33m\"\u001b[39m\u001b[33mindex\u001b[39m\u001b[33m\"\u001b[39m:\u001b[33m\"\u001b[39m\u001b[33mdate\u001b[39m\u001b[33m\"\u001b[39m})\n",
      "\u001b[31mRuntimeError\u001b[39m: Unexpected response from AlphaVantage: {'Information': 'Thank you for using Alpha Vantage! This is a premium endpoint. You may subscribe to any of the premium plans at https://www.alphavantage.co/premium/ to instantly unlock all premium endpoints'}"
     ]
    }
   ],
   "source": [
    "#fetch_alpha_vantage_daily(\"ACN\") #needs premium plans"
   ]
  },
  {
   "cell_type": "code",
   "execution_count": null,
   "id": "6bd14c32-8b7b-4790-a2cc-5d701cc6e646",
   "metadata": {},
   "outputs": [],
   "source": []
  }
 ],
 "metadata": {
  "kernelspec": {
   "display_name": "Python 3 (ipykernel)",
   "language": "python",
   "name": "python3"
  },
  "language_info": {
   "codemirror_mode": {
    "name": "ipython",
    "version": 3
   },
   "file_extension": ".py",
   "mimetype": "text/x-python",
   "name": "python",
   "nbconvert_exporter": "python",
   "pygments_lexer": "ipython3",
   "version": "3.13.5"
  }
 },
 "nbformat": 4,
 "nbformat_minor": 5
}
