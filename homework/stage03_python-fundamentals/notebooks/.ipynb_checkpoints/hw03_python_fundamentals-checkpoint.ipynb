{
 "cells": [
  {
   "cell_type": "code",
   "execution_count": 3,
   "id": "0cdd8817-5421-4404-b304-b5de0b155f1d",
   "metadata": {},
   "outputs": [
    {
     "name": "stdout",
     "output_type": "stream",
     "text": [
      "Requirement already satisfied: pandas in /opt/miniconda3/lib/python3.13/site-packages (2.3.1)\n",
      "Requirement already satisfied: matplotlib in /opt/miniconda3/lib/python3.13/site-packages (3.10.5)\n",
      "Requirement already satisfied: numpy>=1.26.0 in /opt/miniconda3/lib/python3.13/site-packages (from pandas) (2.3.2)\n",
      "Requirement already satisfied: python-dateutil>=2.8.2 in /opt/miniconda3/lib/python3.13/site-packages (from pandas) (2.9.0.post0)\n",
      "Requirement already satisfied: pytz>=2020.1 in /opt/miniconda3/lib/python3.13/site-packages (from pandas) (2025.2)\n",
      "Requirement already satisfied: tzdata>=2022.7 in /opt/miniconda3/lib/python3.13/site-packages (from pandas) (2025.2)\n",
      "Requirement already satisfied: contourpy>=1.0.1 in /opt/miniconda3/lib/python3.13/site-packages (from matplotlib) (1.3.3)\n",
      "Requirement already satisfied: cycler>=0.10 in /opt/miniconda3/lib/python3.13/site-packages (from matplotlib) (0.12.1)\n",
      "Requirement already satisfied: fonttools>=4.22.0 in /opt/miniconda3/lib/python3.13/site-packages (from matplotlib) (4.59.1)\n",
      "Requirement already satisfied: kiwisolver>=1.3.1 in /opt/miniconda3/lib/python3.13/site-packages (from matplotlib) (1.4.9)\n",
      "Requirement already satisfied: packaging>=20.0 in /opt/miniconda3/lib/python3.13/site-packages (from matplotlib) (24.2)\n",
      "Requirement already satisfied: pillow>=8 in /opt/miniconda3/lib/python3.13/site-packages (from matplotlib) (11.3.0)\n",
      "Requirement already satisfied: pyparsing>=2.3.1 in /opt/miniconda3/lib/python3.13/site-packages (from matplotlib) (3.2.3)\n",
      "Requirement already satisfied: six>=1.5 in /opt/miniconda3/lib/python3.13/site-packages (from python-dateutil>=2.8.2->pandas) (1.17.0)\n"
     ]
    }
   ],
   "source": [
    "!pip install pandas matplotlib"
   ]
  },
  {
   "cell_type": "code",
   "execution_count": 26,
   "id": "af60570e-2371-4c0b-8698-d32aaafbca1f",
   "metadata": {},
   "outputs": [],
   "source": [
    "import os\n",
    "from pathlib import Path\n",
    "import numpy as np\n",
    "import pandas as pd\n",
    "from dotenv import load_dotenv\n",
    "load_dotenv()\n",
    "\n",
    "import sys\n",
    "sys.path.append(str(Path.cwd() / \"../src/\"))\n",
    "from utils import get_summary_stats, choose_group_col, group_by_and_agg\n"
   ]
  },
  {
   "cell_type": "code",
   "execution_count": null,
   "id": "fb463433-f02e-43c4-95dd-a412d9455aa9",
   "metadata": {},
   "outputs": [
    {
     "name": "stdout",
     "output_type": "stream",
     "text": [
      "88 μs ± 1.43 μs per loop (mean ± std. dev. of 7 runs, 10,000 loops each)\n"
     ]
    }
   ],
   "source": [
    "import numpy as np\n",
    "\n",
    "n = 200_000\n",
    "a = np.arange(n, dtype=np.float64)\n",
    "\n",
    "%timeit a * 2\n",
    "vec = a * 2\n",
    "\n",
    "def loop_double(x):\n",
    "    out = np.empty_like(x)\n",
    "    for i, v in enumerate(x):\n",
    "        out[i] = v * 2\n",
    "    return out\n",
    "\n",
    "%timeit loop_double(a)\n",
    "print(\"first 5 vectorized:\", vec[:5])\n"
   ]
  },
  {
   "cell_type": "code",
   "execution_count": null,
   "id": "12b34f69-8274-48c6-a6df-2d16b59ee6ea",
   "metadata": {},
   "outputs": [],
   "source": [
    "data_path = Path(os.getenv(\"DATA_DIR\", \"data\")) / \"starter_data.csv\"\n",
    "print(\"Looking for:\", data_path)\n",
    "\n",
    "if not data_path.exists():\n",
    "    raise FileNotFoundError(f\"{data_path} not found. Place starter_data.csv at this path.\")\n",
    "\n",
    "df = pd.read_csv(data_path)\n",
    "print(\"Shape:\", df.shape)\n",
    "display(df.info())\n",
    "display(df.head())\n"
   ]
  },
  {
   "cell_type": "code",
   "execution_count": null,
   "id": "1cbf5d83-744e-4b7c-bd2f-898a7adc3389",
   "metadata": {},
   "outputs": [],
   "source": [
    "summary = get_summary_stats(df)\n",
    "display(summary)\n",
    "\n",
    "out_dir = Path(\"data/processed\")\n",
    "out_dir.mkdir(parents=True, exist_ok=True)\n",
    "summary.to_csv(out_dir / \"summary.csv\")\n",
    "summary.to_json(out_dir / \"summary.json\", orient=\"table\")\n",
    "print(\"Saved summary.csv and summary.json to\", out_dir)\n"
   ]
  },
  {
   "cell_type": "code",
   "execution_count": null,
   "id": "10eab943-1b0f-48c2-a8fa-13250b00ca08",
   "metadata": {},
   "outputs": [],
   "source": [
    "group_col = 'category' if 'category' in df.columns else choose_group_col(df)\n",
    "print(\"Using group column:\", group_col)\n",
    "\n",
    "if group_col is not None:\n",
    "    grouped = group_by_and_agg(df, group_col)\n",
    "    display(grouped.head())\n",
    "    grouped.to_csv(out_dir / f\"grouped_by_{group_col}.csv\", index=False)\n",
    "    print(\"Saved grouped results to\", out_dir / f\"grouped_by_{group_col}.csv\")\n",
    "else:\n",
    "    print(\"No suitable categorical column found; skipping groupby.\")\n"
   ]
  },
  {
   "cell_type": "code",
   "execution_count": 15,
   "id": "44373ce7-d07f-4cd2-8720-d429cdaacba8",
   "metadata": {},
   "outputs": [
    {
     "name": "stdout",
     "output_type": "stream",
     "text": [
      "Saved plot to data/processed/value_hist.png\n"
     ]
    }
   ],
   "source": [
    "# Bonus: basic plot (first numeric column)\n",
    "import matplotlib.pyplot as plt\n",
    "\n",
    "num_cols = df.select_dtypes(include=[np.number]).columns.tolist()\n",
    "if num_cols:\n",
    "    col = num_cols[0]\n",
    "    plt.figure(figsize=(6,4))\n",
    "    df[col].hist(bins=30)\n",
    "    plt.title(f\"Histogram of {col}\")\n",
    "    plt.xlabel(col)\n",
    "    plt.ylabel(\"count\")\n",
    "    plt.tight_layout()\n",
    "    plot_path = out_dir / f\"{col}_hist.png\"\n",
    "    plt.savefig(plot_path)\n",
    "    plt.close()\n",
    "    print(\"Saved plot to\", plot_path)\n",
    "else:\n",
    "    print(\"No numeric columns to plot.\")\n"
   ]
  },
  {
   "cell_type": "code",
   "execution_count": null,
   "id": "ccb5ce70-e631-478e-b2d0-2f95928a6872",
   "metadata": {},
   "outputs": [],
   "source": []
  }
 ],
 "metadata": {
  "kernelspec": {
   "display_name": "Python 3 (ipykernel)",
   "language": "python",
   "name": "python3"
  },
  "language_info": {
   "codemirror_mode": {
    "name": "ipython",
    "version": 3
   },
   "file_extension": ".py",
   "mimetype": "text/x-python",
   "name": "python",
   "nbconvert_exporter": "python",
   "pygments_lexer": "ipython3",
   "version": "3.13.5"
  }
 },
 "nbformat": 4,
 "nbformat_minor": 5
}
